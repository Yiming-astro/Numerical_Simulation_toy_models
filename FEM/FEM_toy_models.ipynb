{
 "cells": [
  {
   "cell_type": "code",
   "execution_count": 184,
   "metadata": {},
   "outputs": [],
   "source": [
    "import numpy as np\n",
    "import matplotlib.pyplot as plt\n",
    "\n",
    "plt.rcParams['xtick.labelsize'] = 16\n",
    "plt.rcParams['ytick.labelsize'] = 16\n",
    "plt.rcParams['xtick.direction'] = 'in'\n",
    "plt.rcParams['ytick.direction'] = 'in'\n",
    "plt.rcParams['xtick.major.size'] = 8\n",
    "plt.rcParams['ytick.major.size'] = 8\n",
    "plt.rcParams['xtick.minor.size'] = 4\n",
    "plt.rcParams['ytick.minor.size'] = 4\n",
    "plt.rcParams['xtick.top'] = True\n",
    "plt.rcParams['ytick.right'] = True\n",
    "plt.rcParams['axes.labelpad'] = 8.0\n",
    "plt.rcParams['figure.constrained_layout.h_pad'] = 0\n",
    "plt.rcParams['text.usetex'] = True\n",
    "plt.rc('text', usetex=True)\n",
    "plt.rcParams['font.sans-serif'] = ['Times New Roman']\n",
    "plt.tick_params(axis='both', which='minor', labelsize=18)\n",
    "import matplotlib.ticker\n",
    "from matplotlib.ticker import (MultipleLocator, FormatStrFormatter,\n",
    "                               AutoMinorLocator)\n",
    "\n",
    "plt.close()\n",
    "\n",
    "plt.rc('font',family='Times New Roman')\n",
    "plt.rcParams['xtick.direction'] = 'in'\n",
    "plt.rcParams['ytick.direction'] = 'in'\n",
    "config = {\n",
    "    \"font.size\": 15,\n",
    "    \"mathtext.fontset\":'stix',\n",
    "    \"font.serif\": ['SimSun'],\n",
    "}"
   ]
  },
  {
   "cell_type": "markdown",
   "metadata": {},
   "source": [
    "### 三角网格"
   ]
  },
  {
   "cell_type": "code",
   "execution_count": 185,
   "metadata": {},
   "outputs": [],
   "source": [
    "# 网格划分数目，每一个正方形网格内有两个等腰直角三角形\n",
    "Nx = Ny = 64\n",
    "\n",
    "# 管理网格点的坐标\n",
    "class Points:\n",
    "    x_space = np.linspace(0, 1, Nx + 1, endpoint=True)\n",
    "    y_space = np.linspace(0, 1, Ny + 1, endpoint=True)\n",
    "    yy, xx = np.meshgrid(y_space, x_space)\n",
    "    xy = np.stack([xx, yy], axis=2)\n",
    "\n",
    "    # i[x序列,y序列]，返回第i个点的坐标\n",
    "    @staticmethod\n",
    "    def get(i):\n",
    "        # i for [0 to Nx ,0 to Ny]\n",
    "        return Points.xy[i[0], i[1]]\n",
    "\n",
    "    # 返回第i个点的全局索引，按行排序\n",
    "    @staticmethod\n",
    "    def global_idx(i):\n",
    "        return i[0] * (Nx + 1) + i[1]"
   ]
  },
  {
   "cell_type": "code",
   "execution_count": 186,
   "metadata": {},
   "outputs": [],
   "source": [
    "class TriangleElement:\n",
    "\n",
    "    def __init__(self, i, j, k):\n",
    "        # i,j,k for [0,1] 三个点所处的行列序列\n",
    "        self.i = i\n",
    "        self.j = j\n",
    "        self.k = k\n",
    "\n",
    "    # 获得坐标\n",
    "\n",
    "    @property\n",
    "    def p1(self):\n",
    "        return Points.get(self.i)\n",
    "    @property\n",
    "    def p2(self):\n",
    "        return Points.get(self.j)\n",
    "    @property\n",
    "    def p3(self):\n",
    "        return Points.get(self.k)\n",
    "\n",
    "    @property\n",
    "    def area(self):\n",
    "        # 返回三角形面积\n",
    "        return (self.p2[0] * self.p3[1] - self.p2[1] * self.p3[0] +\n",
    "            self.p3[0] * self.p1[1] - self.p3[1] * self.p1[0] +\n",
    "            self.p1[0] * self.p2[1] - self.p1[1] * self.p2[0]) / 2\n",
    "    \n",
    "    # 计算每一个三角元对于刚度矩阵的贡献\n",
    "    def add_local_stiffness(self, global_stiffness: np.array):\n",
    "        gi = Points.global_idx(self.i)\n",
    "        gj = Points.global_idx(self.j)\n",
    "        gk = Points.global_idx(self.k)\n",
    "        sub_idx = [gi, gj, gk]\n",
    "        i, j, k = Points.get(self.i), Points.get(self.j), Points.get(self.k)\n",
    "        local_stiff = np.sum(np.array(\n",
    "            [[(j - k) ** 2, (i - k) * (k - j), (i - j) * (j - k)],\n",
    "             [(i - k) * (k - j), (i - k) ** 2, (k - i) * (i - j)],\n",
    "             [(i - j) * (j - k), (k - i) * (i - j), (i - j) ** 2]]), axis=2) / self.area / 4\n",
    "        global_stiffness[np.ix_(sub_idx, sub_idx)] += local_stiff\n",
    "    \n",
    "    # 计算每一个三角元对于载荷向量的贡献\n",
    "    def add_local_load(self, q: callable, global_load: np.array):\n",
    "        gi = Points.global_idx(self.i)\n",
    "        gj = Points.global_idx(self.j)\n",
    "        gk = Points.global_idx(self.k)\n",
    "        i, j, k = Points.get(self.i), Points.get(self.j), Points.get(self.k)\n",
    "\n",
    "        def compose_fun(local_idx):\n",
    "            if local_idx == 0:\n",
    "                li, lj, lk = i, j, k\n",
    "            if local_idx == 1:\n",
    "                lk, li, lj = i, j, k\n",
    "            if local_idx == 2:\n",
    "                lj, lk, li = i, j, k\n",
    "\n",
    "            def _fun(x, y):\n",
    "                _r = (x * lj[1] - lj[0] * y + lj[0] * lk[1] + lk[0] * y - x * lk[1] - lk[0] * lj[1]) / 2 / self.area\n",
    "                return _r * q(x, y)\n",
    "\n",
    "            return _fun\n",
    "\n",
    "        global_load[gi] += self.quadrature(compose_fun(0))\n",
    "        global_load[gj] += self.quadrature(compose_fun(1))\n",
    "        global_load[gk] += self.quadrature(compose_fun(2))\n",
    "    \n",
    "    def quadrature(self, q: callable):\n",
    "        return q((self.p1[0] + self.p2[0] + self.p3[0]) / 3, (self.p1[1] + self.p2[1] + self.p3[1]) / 3) * self.area"
   ]
  },
  {
   "cell_type": "code",
   "execution_count": 187,
   "metadata": {},
   "outputs": [],
   "source": [
    "def q(xx, yy):\n",
    "    m = np.sqrt(xx**2 + yy**2)\n",
    "    m = np.where(m > 0.25, 0, 0.25 - m)\n",
    "    return m\n",
    "\n",
    "# 初始化结构网格\n",
    "element_list = []\n",
    "for ix in range(Nx):\n",
    "    for iy in range(Ny):\n",
    "        element_list.append(TriangleElement((ix, iy), (ix + 1, iy), (ix, iy + 1)))\n",
    "        element_list.append(TriangleElement((ix, iy + 1), (ix + 1, iy), (ix + 1, iy + 1)))\n",
    "\n",
    "# 获得刚度矩阵\n",
    "global_stiffness = np.zeros(((Nx + 1) * (Ny + 1), (Nx + 1) * (Ny + 1)))\n",
    "[te.add_local_stiffness(global_stiffness) for te in element_list]\n",
    "# 索引网格非边界节点\n",
    "interior_idx = (Nx + 1) * np.arange(1, Nx).reshape(Nx - 1, 1) + np.arange(1, Ny).reshape(1, Ny - 1)\n",
    "interior_idx = interior_idx.ravel()\n",
    "global_stiffness = global_stiffness[np.ix_(interior_idx, interior_idx)]\n",
    "\n",
    "# 计算载荷\n",
    "global_load = np.zeros((Nx + 1) * (Ny + 1))\n",
    "[te.add_local_load(q, global_load) for te in element_list]\n",
    "global_load = global_load[interior_idx]\n",
    "\n",
    "res = np.linalg.solve(global_stiffness, global_load)\n",
    "res = res.reshape(Nx - 1, Ny - 1)\n",
    "res = np.pad(res, pad_width=1, mode='constant', constant_values=0)"
   ]
  },
  {
   "cell_type": "markdown",
   "metadata": {},
   "source": [
    "#### 绘制结果"
   ]
  },
  {
   "cell_type": "code",
   "execution_count": 188,
   "metadata": {},
   "outputs": [
    {
     "data": {
      "image/png": "[encoded data removed]",
      "text/plain": [
       "<Figure size 640x480 with 2 Axes>"
      ]
     },
     "metadata": {},
     "output_type": "display_data"
    }
   ],
   "source": [
    "plt.imshow(res ,extent=[0, 1, 0, 1], origin='lower')\n",
    "plt.colorbar()\n",
    "plt.xlabel(r'$x$',fontsize = 15)\n",
    "plt.ylabel(r'$y$',fontsize = 15)\n",
    "plt.title('Field function')\n",
    "plt.savefig('Fig1.pdf',bbox_inches='tight')"
   ]
  },
  {
   "cell_type": "code",
   "execution_count": 189,
   "metadata": {},
   "outputs": [
    {
     "data": {
      "image/png": "[encoded data removed]",
      "text/plain": [
       "<Figure size 640x480 with 2 Axes>"
      ]
     },
     "metadata": {},
     "output_type": "display_data"
    }
   ],
   "source": [
    "x_space = np.linspace(0, 1, Nx + 1, endpoint=True)\n",
    "y_space = np.linspace(0, 1, Ny + 1, endpoint=True)\n",
    "yy, xx = np.meshgrid(y_space, x_space)\n",
    "m = q(xx, yy)\n",
    "\n",
    "plt.imshow(m ,extent=[0, 1, 0, 1], origin='lower')\n",
    "plt.colorbar()\n",
    "plt.xlabel(r'$x$',fontsize = 15)\n",
    "plt.ylabel(r'$y$',fontsize = 15)\n",
    "plt.title('Source function')\n",
    "plt.savefig('Fig2.pdf',bbox_inches='tight')"
   ]
  },
  {
   "cell_type": "code",
   "execution_count": 190,
   "metadata": {},
   "outputs": [],
   "source": [
    "x_space = np.linspace(0, 1, Nx + 1)\n",
    "y_space = np.linspace(0, 1, Ny + 1)\n",
    "yy, xx = np.meshgrid(y_space, x_space)\n",
    "xy = np.stack([xx, yy], axis=2)\n"
   ]
  }
 ],
 "metadata": {
  "kernelspec": {
   "display_name": "ComEnv",
   "language": "python",
   "name": "python3"
  },
  "language_info": {
   "codemirror_mode": {
    "name": "ipython",
    "version": 3
   },
   "file_extension": ".py",
   "mimetype": "text/x-python",
   "name": "python",
   "nbconvert_exporter": "python",
   "pygments_lexer": "ipython3",
   "version": "3.9.16"
  }
 },
 "nbformat": 4,
 "nbformat_minor": 2
}
